{
 "cells": [
  {
   "cell_type": "markdown",
   "metadata": {},
   "source": [
    "## Import Modules"
   ]
  },
  {
   "cell_type": "code",
   "execution_count": 1,
   "metadata": {},
   "outputs": [],
   "source": [
    "from selenium import webdriver\n",
    "from selenium.webdriver.chrome.options import Options\n",
    "from webdriver_manager.chrome import ChromeDriverManager\n",
    "from selenium.webdriver.common.by import By\n",
    "import pandas as pd\n",
    "from time import sleep\n",
    "import csv"
   ]
  },
  {
   "cell_type": "code",
   "execution_count": 2,
   "metadata": {},
   "outputs": [
    {
     "name": "stderr",
     "output_type": "stream",
     "text": [
      "C:\\Users\\makwa\\AppData\\Local\\Temp\\ipykernel_4300\\4282805510.py:1: DeprecationWarning: executable_path has been deprecated, please pass in a Service object\n",
      "  browser = webdriver.Chrome(ChromeDriverManager().install())\n"
     ]
    }
   ],
   "source": [
    "\n",
    "browser = webdriver.Chrome(ChromeDriverManager().install())"
   ]
  },
  {
   "cell_type": "code",
   "execution_count": 3,
   "metadata": {},
   "outputs": [],
   "source": [
    "browser.get('https://www.amazon.in')"
   ]
  },
  {
   "cell_type": "code",
   "execution_count": 4,
   "metadata": {},
   "outputs": [],
   "source": [
    "browser.maximize_window()"
   ]
  },
  {
   "cell_type": "code",
   "execution_count": 5,
   "metadata": {},
   "outputs": [],
   "source": [
    "# get the input elements\n",
    "input_search = browser.find_element(By.ID, 'twotabsearchtextbox')\n",
    "sleep(3)  \n",
    "search_button = browser.find_element(By.ID, 'nav-search-submit-button')\n",
    "# input_search = browser.find_element_by_id(\"//*[@id='twotabsearchtextbox']\")\n",
    "# search_button = browser.find_element_by_xpath(\"(//input[@type='submit'])[1]\")"
   ]
  },
  {
   "cell_type": "code",
   "execution_count": 6,
   "metadata": {},
   "outputs": [],
   "source": [
    "# send the input to the webpage\n",
    "input_search.send_keys(\"iphone 13\")\n",
    "sleep(1)\n",
    "search_button.click()"
   ]
  },
  {
   "cell_type": "markdown",
   "metadata": {},
   "source": [
    "## Scrape Products from Amazon"
   ]
  },
  {
   "cell_type": "code",
   "execution_count": 7,
   "metadata": {
    "scrolled": false
   },
   "outputs": [
    {
     "name": "stderr",
     "output_type": "stream",
     "text": [
      "C:\\Users\\makwa\\AppData\\Local\\Temp\\ipykernel_4300\\3246474906.py:7: DeprecationWarning: find_elements_by_xpath is deprecated. Please use find_elements(by=By.XPATH, value=xpath) instead\n",
      "  product = browser.find_elements_by_xpath(\"//span[@class='a-size-medium a-color-base a-text-normal']\")\n",
      "C:\\Users\\makwa\\AppData\\Local\\Temp\\ipykernel_4300\\3246474906.py:10: DeprecationWarning: find_elements_by_xpath is deprecated. Please use find_elements(by=By.XPATH, value=xpath) instead\n",
      "  price = browser.find_elements_by_xpath(\"//span[@class='a-price-whole']\")   #a-offscreen\n",
      "C:\\Users\\makwa\\AppData\\Local\\Temp\\ipykernel_4300\\3246474906.py:29: DeprecationWarning: find_element_by_xpath is deprecated. Please use find_element(by=By.XPATH, value=xpath) instead\n",
      "  next_button = browser.find_element_by_xpath(\"//a[@class='s-pagination-item s-pagination-next s-pagination-button s-pagination-separator']\")\n"
     ]
    }
   ],
   "source": [
    "products = []\n",
    "# product_text = []\n",
    "# price_text = []\n",
    "prices = []\n",
    "for i in range(1):\n",
    "#     print('Scraping page', i+1)\n",
    "    product = browser.find_elements_by_xpath(\"//span[@class='a-size-medium a-color-base a-text-normal']\")\n",
    "#     product_text = product.get_attribute(\"innerHTML\")\n",
    "\n",
    "    price = browser.find_elements_by_xpath(\"//span[@class='a-price-whole']\")   #a-offscreen\n",
    "    \n",
    "#     for my_href2 in price:\n",
    "#         price_text.append(my_href2.get_attribute(\"innerHTML\"))        \n",
    "\n",
    "\n",
    "#     for my_href1 in product:\n",
    "#         product_text.append(my_href1.get_attribute(\"innerHTML\"))\n",
    "            \n",
    "    \n",
    "    \n",
    "#     print (product)\n",
    "    for p in product:\n",
    "        products.append(p.text)        \n",
    "        \n",
    "    for q in price:        \n",
    "        prices.append(q.text)        \n",
    "\n",
    "        \n",
    "    next_button = browser.find_element_by_xpath(\"//a[@class='s-pagination-item s-pagination-next s-pagination-button s-pagination-separator']\")\n",
    "    next_button.click()\n",
    "    sleep(2)\n",
    "    "
   ]
  },
  {
   "cell_type": "code",
   "execution_count": 8,
   "metadata": {},
   "outputs": [],
   "source": [
    "# price_text"
   ]
  },
  {
   "cell_type": "code",
   "execution_count": 9,
   "metadata": {},
   "outputs": [],
   "source": [
    "# product_text\n",
    "# product"
   ]
  },
  {
   "cell_type": "code",
   "execution_count": 10,
   "metadata": {},
   "outputs": [
    {
     "data": {
      "text/plain": [
       "19"
      ]
     },
     "execution_count": 10,
     "metadata": {},
     "output_type": "execute_result"
    }
   ],
   "source": [
    "len(products)"
   ]
  },
  {
   "cell_type": "code",
   "execution_count": 11,
   "metadata": {},
   "outputs": [
    {
     "data": {
      "text/plain": [
       "['Apple iPhone 13 (128GB) - Starlight',\n",
       " 'Apple iPhone 13 Pro (128GB) - Sierra Blue',\n",
       " 'Apple iPhone 13 (128GB) - Blue',\n",
       " 'Google Pixel 6a 5G (Chalk, 6GB RAM, 128GB Storage)',\n",
       " 'Apple iPhone 13 (128GB) - Starlight',\n",
       " 'Apple iPhone 13 (256GB) - Blue',\n",
       " 'Apple iPhone 13 (128GB) - Midnight',\n",
       " 'Apple iPhone 13 (128GB) - Pink',\n",
       " 'Apple iPhone 13 (128GB) - Green',\n",
       " 'Apple iPhone 13 (128GB) - (Product) RED',\n",
       " 'Apple iPhone 13 (256GB) - Pink',\n",
       " 'Apple iPhone 13 (256GB) - Midnight',\n",
       " 'Apple iPhone 13 (256 GB) - Green',\n",
       " 'Apple iPhone 13 (256GB) - Blue',\n",
       " 'Apple iPhone 13 (256GB) - Starlight',\n",
       " 'Apple iPhone 13 (256GB) - (Product) RED',\n",
       " 'Apple iPhone 13 Pro (128GB) - Sierra Blue',\n",
       " 'Apple iPhone 13 Pro Max (128GB) - Sierra Blue',\n",
       " 'Apple iPhone 13 Mini (256GB) - Starlight']"
      ]
     },
     "execution_count": 11,
     "metadata": {},
     "output_type": "execute_result"
    }
   ],
   "source": [
    "products"
   ]
  },
  {
   "cell_type": "code",
   "execution_count": 12,
   "metadata": {},
   "outputs": [
    {
     "data": {
      "text/plain": [
       "['69,900',\n",
       " '1,08,900',\n",
       " '69,999',\n",
       " '35,100',\n",
       " '69,900',\n",
       " '76,900',\n",
       " '69,999',\n",
       " '69,900',\n",
       " '67,900',\n",
       " '67,900',\n",
       " '76,900',\n",
       " '76,900',\n",
       " '74,900',\n",
       " '76,900',\n",
       " '76,900',\n",
       " '74,900',\n",
       " '1,08,900',\n",
       " '1,19,900',\n",
       " '74,369']"
      ]
     },
     "execution_count": 12,
     "metadata": {},
     "output_type": "execute_result"
    }
   ],
   "source": [
    "prices\n",
    "# price_text"
   ]
  },
  {
   "cell_type": "code",
   "execution_count": 14,
   "metadata": {},
   "outputs": [],
   "source": [
    "with open('price.csv', 'w', encoding='UTF8', newline='') as f:\n",
    "    writer = csv.writer(f)\n",
    "    \n",
    "    writer.writerows([products,prices])"
   ]
  },
  {
   "cell_type": "code",
   "execution_count": 15,
   "metadata": {},
   "outputs": [
    {
     "name": "stdout",
     "output_type": "stream",
     "text": [
      "                                         product name     Price\n",
      "0                 Apple iPhone 13 (128GB) - Starlight    69,900\n",
      "1           Apple iPhone 13 Pro (128GB) - Sierra Blue  1,08,900\n",
      "2                      Apple iPhone 13 (128GB) - Blue    69,999\n",
      "3   Google Pixel 6a 5G (Chalk, 6GB RAM, 128GB Stor...    35,100\n",
      "4                 Apple iPhone 13 (128GB) - Starlight    69,900\n",
      "5                      Apple iPhone 13 (256GB) - Blue    76,900\n",
      "6                  Apple iPhone 13 (128GB) - Midnight    69,999\n",
      "7                      Apple iPhone 13 (128GB) - Pink    69,900\n",
      "8                     Apple iPhone 13 (128GB) - Green    67,900\n",
      "9             Apple iPhone 13 (128GB) - (Product) RED    67,900\n",
      "10                     Apple iPhone 13 (256GB) - Pink    76,900\n",
      "11                 Apple iPhone 13 (256GB) - Midnight    76,900\n",
      "12                   Apple iPhone 13 (256 GB) - Green    74,900\n",
      "13                     Apple iPhone 13 (256GB) - Blue    76,900\n",
      "14                Apple iPhone 13 (256GB) - Starlight    76,900\n",
      "15            Apple iPhone 13 (256GB) - (Product) RED    74,900\n",
      "16          Apple iPhone 13 Pro (128GB) - Sierra Blue  1,08,900\n",
      "17      Apple iPhone 13 Pro Max (128GB) - Sierra Blue  1,19,900\n",
      "18           Apple iPhone 13 Mini (256GB) - Starlight    74,369\n"
     ]
    }
   ],
   "source": [
    "data = pd.DataFrame()\n",
    "data['product name'] = products\n",
    "data['Price'] = prices\n",
    "data['Price'] = data['Price'].astype(str)\n",
    "print (data)\n",
    "\n",
    "# data.to_excel('product_price.xls', index=False)"
   ]
  },
  {
   "cell_type": "code",
   "execution_count": null,
   "metadata": {},
   "outputs": [],
   "source": [
    "browser.quit()"
   ]
  },
  {
   "cell_type": "code",
   "execution_count": null,
   "metadata": {},
   "outputs": [],
   "source": []
  }
 ],
 "metadata": {
  "kernelspec": {
   "display_name": "Python 3 (ipykernel)",
   "language": "python",
   "name": "python3"
  },
  "language_info": {
   "codemirror_mode": {
    "name": "ipython",
    "version": 3
   },
   "file_extension": ".py",
   "mimetype": "text/x-python",
   "name": "python",
   "nbconvert_exporter": "python",
   "pygments_lexer": "ipython3",
   "version": "3.10.7"
  }
 },
 "nbformat": 4,
 "nbformat_minor": 4
}
